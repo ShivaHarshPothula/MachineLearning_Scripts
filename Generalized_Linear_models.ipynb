{
 "cells": [
  {
   "cell_type": "code",
   "execution_count": 1,
   "id": "fd699970",
   "metadata": {},
   "outputs": [],
   "source": [
    "import numpy as np\n",
    "from scipy import stats\n",
    "import matplotlib.pyplot as plt\n",
    "import seaborn as sns\n",
    "import statsmodels.api as sm\n",
    "%matplotlib inline"
   ]
  },
  {
   "cell_type": "markdown",
   "id": "95bc99d1",
   "metadata": {},
   "source": [
    "### Linear Regression"
   ]
  },
  {
   "cell_type": "code",
   "execution_count": 6,
   "id": "ef42cb65",
   "metadata": {},
   "outputs": [
    {
     "name": "stdout",
     "output_type": "stream",
     "text": [
      "                            OLS Regression Results                            \n",
      "==============================================================================\n",
      "Dep. Variable:                      y   R-squared:                       0.904\n",
      "Model:                            OLS   Adj. R-squared:                  0.903\n",
      "Method:                 Least Squares   F-statistic:                     921.4\n",
      "Date:                Fri, 15 Oct 2021   Prob (F-statistic):           1.22e-51\n",
      "Time:                        17:21:37   Log-Likelihood:                -13.196\n",
      "No. Observations:                 100   AIC:                             30.39\n",
      "Df Residuals:                      98   BIC:                             35.60\n",
      "Df Model:                           1                                         \n",
      "Covariance Type:            nonrobust                                         \n",
      "==============================================================================\n",
      "                 coef    std err          t      P>|t|      [0.025      0.975]\n",
      "------------------------------------------------------------------------------\n",
      "const          2.5581      0.054     47.751      0.000       2.452       2.664\n",
      "x1             2.9366      0.097     30.355      0.000       2.745       3.129\n",
      "==============================================================================\n",
      "Omnibus:                       19.276   Durbin-Watson:                   2.031\n",
      "Prob(Omnibus):                  0.000   Jarque-Bera (JB):                5.354\n",
      "Skew:                          -0.191   Prob(JB):                       0.0688\n",
      "Kurtosis:                       1.933   Cond. No.                         4.30\n",
      "==============================================================================\n",
      "\n",
      "Notes:\n",
      "[1] Standard Errors assume that the covariance matrix of the errors is correctly specified.\n"
     ]
    },
    {
     "data": {
      "text/plain": [
       "Text(0.5, 1.0, 'Linear Regression - OLS')"
      ]
     },
     "execution_count": 6,
     "metadata": {},
     "output_type": "execute_result"
    },
    {
     "data": {
      "image/png": "[encoded data removed]",
      "text/plain": [
       "<Figure size 432x288 with 1 Axes>"
      ]
     },
     "metadata": {
      "needs_background": "light"
     },
     "output_type": "display_data"
    }
   ],
   "source": [
    "## Linear Regression\n",
    "np.random.seed(0)\n",
    "x = np.random.rand(100,1)\n",
    "y = 2 + 3*x + np.random.rand(100,1)\n",
    "\n",
    "x_with_const = sm.add_constant(x)\n",
    "OLS = sm.OLS(y,x_with_const)\n",
    "OLS_mdl = OLS.fit()\n",
    "\n",
    "print(OLS_mdl.summary())\n",
    "\n",
    "OLS_pred = OLS_mdl.predict(x_with_const)\n",
    "\n",
    "plt.scatter(x,y,color='blue')\n",
    "plt.plot(x,OLS_pred,'r-')\n",
    "plt.xlabel('x')\n",
    "plt.ylabel('y')\n",
    "plt.title('Linear Regression - OLS')"
   ]
  },
  {
   "cell_type": "markdown",
   "id": "dae3f13f",
   "metadata": {},
   "source": [
    "### Poisson Regression"
   ]
  },
  {
   "cell_type": "code",
   "execution_count": 61,
   "id": "a0abe267",
   "metadata": {},
   "outputs": [
    {
     "name": "stdout",
     "output_type": "stream",
     "text": [
      "                 Generalized Linear Model Regression Results                  \n",
      "==============================================================================\n",
      "Dep. Variable:                      y   No. Observations:                  100\n",
      "Model:                            GLM   Df Residuals:                       98\n",
      "Model Family:                 Poisson   Df Model:                            1\n",
      "Link Function:                    log   Scale:                          1.0000\n",
      "Method:                          IRLS   Log-Likelihood:                -282.99\n",
      "Date:                Fri, 15 Oct 2021   Deviance:                       20.824\n",
      "Time:                        19:42:55   Pearson chi2:                     21.5\n",
      "No. Iterations:                     5   Pseudo R-squ. (CS):              1.000\n",
      "Covariance Type:            nonrobust                                         \n",
      "==============================================================================\n",
      "                 coef    std err          z      P>|z|      [0.025      0.975]\n",
      "------------------------------------------------------------------------------\n",
      "const          2.3662      0.041     58.153      0.000       2.286       2.446\n",
      "x1             2.6225      0.056     46.489      0.000       2.512       2.733\n",
      "==============================================================================\n"
     ]
    },
    {
     "data": {
      "text/plain": [
       "Text(0, 0.5, 'y')"
      ]
     },
     "execution_count": 61,
     "metadata": {},
     "output_type": "execute_result"
    },
    {
     "data": {
      "image/png": "[encoded data removed]",
      "text/plain": [
       "<Figure size 432x288 with 1 Axes>"
      ]
     },
     "metadata": {
      "needs_background": "light"
     },
     "output_type": "display_data"
    }
   ],
   "source": [
    "## Poisson Regression\n",
    "np.random.seed(0)\n",
    "lamda = 5\n",
    "\n",
    "x = np.random.rand(100,1)\n",
    "y = np.exp(2 + 3*x) + np.random.poisson(lamda,100).reshape(-1,1) \n",
    "\n",
    "x_with_const = sm.add_constant(x)\n",
    "\n",
    "# Poisson regression\n",
    "mdl = sm.GLM(y, x_with_const, family=sm.families.Poisson(link=sm.families.links.log()))\n",
    "mdl_fit = mdl.fit()\n",
    "print(mdl_fit.summary())\n",
    "\n",
    "y_pred = mdl_fit.predict(x_with_const)\n",
    "\n",
    "idx = x.reshape(1,-1)[0].argsort()\n",
    "x_ord, y_pred_ord = x[idx], y_pred[idx]\n",
    "\n",
    "plt.scatter(x, y, color='blue')\n",
    "plt.plot(x_ord, y_pred_ord,color='red')\n",
    "plt.xlabel(\"x\")\n",
    "plt.ylabel(\"y\")"
   ]
  },
  {
   "cell_type": "markdown",
   "id": "d7eec77e",
   "metadata": {},
   "source": [
    "### Logistic Regression"
   ]
  },
  {
   "cell_type": "code",
   "execution_count": 100,
   "id": "bc26a844",
   "metadata": {},
   "outputs": [
    {
     "data": {
      "text/plain": [
       "Text(0, 0.5, 'sigmoid')"
      ]
     },
     "execution_count": 100,
     "metadata": {},
     "output_type": "execute_result"
    },
    {
     "data": {
      "image/png": "[encoded data removed]",
      "text/plain": [
       "<Figure size 432x288 with 1 Axes>"
      ]
     },
     "metadata": {
      "needs_background": "light"
     },
     "output_type": "display_data"
    }
   ],
   "source": [
    "def sigmoid(x_val):\n",
    "    sigmoid = (1/(1+np.exp(-x_val)))\n",
    "    return(sigmoid)\n",
    "\n",
    "x_val = np.arange(-10,10)\n",
    "y_val = sigmoid(x_val)\n",
    "\n",
    "plt.plot(x_val,y_val)\n",
    "plt.hlines(y=0.5,xmin=-10,xmax=10,color='red')\n",
    "plt.grid()\n",
    "plt.xlabel(\"x\")\n",
    "plt.ylabel(\"sigmoid\")"
   ]
  },
  {
   "cell_type": "code",
   "execution_count": 121,
   "id": "b755c8cc",
   "metadata": {},
   "outputs": [
    {
     "name": "stdout",
     "output_type": "stream",
     "text": [
      "                 Generalized Linear Model Regression Results                  \n",
      "==============================================================================\n",
      "Dep. Variable:                      y   No. Observations:                  100\n",
      "Model:                            GLM   Df Residuals:                       98\n",
      "Model Family:                Binomial   Df Model:                            1\n",
      "Link Function:                  logit   Scale:                          1.0000\n",
      "Method:                          IRLS   Log-Likelihood:                -9.1813\n",
      "Date:                Sat, 16 Oct 2021   Deviance:                       18.363\n",
      "Time:                        08:37:38   Pearson chi2:                     30.4\n",
      "No. Iterations:                     9   Pseudo R-squ. (CS):             0.6985\n",
      "Covariance Type:            nonrobust                                         \n",
      "==============================================================================\n",
      "                 coef    std err          z      P>|z|      [0.025      0.975]\n",
      "------------------------------------------------------------------------------\n",
      "const          1.6438      0.829      1.984      0.047       0.020       3.268\n",
      "x1             1.7361      0.592      2.932      0.003       0.576       2.896\n",
      "==============================================================================\n"
     ]
    },
    {
     "data": {
      "text/plain": [
       "Text(0, 0.5, 'y')"
      ]
     },
     "execution_count": 121,
     "metadata": {},
     "output_type": "execute_result"
    },
    {
     "data": {
      "image/png": "[encoded data removed]",
      "text/plain": [
       "<Figure size 432x288 with 1 Axes>"
      ]
     },
     "metadata": {
      "needs_background": "light"
     },
     "output_type": "display_data"
    }
   ],
   "source": [
    "## Logistic Regression\n",
    "np.random.seed(0)\n",
    "\n",
    "x = np.random.uniform(-10,10,100)\n",
    "y = sigmoid(2 + 3*x)\n",
    "\n",
    "y_class = np.random.binomial(n=1,p=y)\n",
    "\n",
    "x_with_const = sm.add_constant(x)\n",
    "\n",
    "mdl = sm.GLM(y_class, x_with_const, family=sm.families.Binomial(link=sm.families.links.logit()))\n",
    "mdl_fit = mdl.fit()\n",
    "print(mdl_fit.summary())\n",
    "\n",
    "y_pred = mdl_fit.predict(x_with_const)\n",
    "\n",
    "idx = x.reshape(1,-1)[0].argsort()\n",
    "x_ord, y_pred_ord = x[idx], y_pred[idx]\n",
    "\n",
    "plt.scatter(x, y, color='blue')\n",
    "plt.plot(x_ord, y_pred_ord,color='red')\n",
    "plt.hlines(y=0.5,xmin=-10,xmax=10,color='g')\n",
    "plt.grid()\n",
    "plt.xlabel(\"x\")\n",
    "plt.ylabel(\"y\")"
   ]
  },
  {
   "cell_type": "markdown",
   "id": "6c858565",
   "metadata": {},
   "source": [
    "### Softmax Regression"
   ]
  },
  {
   "attachments": {
    "image.png": {
     "image/png": "[encoded data removed]"
    }
   },
   "cell_type": "markdown",
   "id": "5f596049",
   "metadata": {},
   "source": [
    "log likelihood\n",
    "\n",
    "![image.png](attachment:image.png)"
   ]
  },
  {
   "cell_type": "code",
   "execution_count": 275,
   "id": "ce24a607",
   "metadata": {
    "scrolled": false
   },
   "outputs": [],
   "source": [
    "from sklearn.datasets import make_classification\n",
    "from sklearn.model_selection import train_test_split\n",
    "\n",
    "# Generate synthetic data\n",
    "X,y = make_classification(n_samples=1000, n_features=5, n_informative=4, n_redundant=0, n_classes=4)\n",
    "\n",
    "# Test-Train split\n",
    "X_train, X_test, y_train, y_test = train_test_split(X, y, test_size=0.3, random_state=42)\n",
    "\n",
    "# Gradient descent Algo\n",
    "theta = np.random.rand(5,1)\n",
    "n_iter = 10000\n",
    "alpha = 0.01\n",
    "tol = 1e-6\n",
    "\n",
    "def softmax(z):\n",
    "    z -= np.max(z)\n",
    "    sm = (np.exp(z).T / np.sum(np.exp(z),axis=0)).T\n",
    "    return sm\n",
    "\n",
    "def cal_Prob_Pred(X,theta):\n",
    "    prob = softmax(np.dot(X,theta))\n",
    "    pred = np.argmax(prob,axis=1)\n",
    "    return prob,pred\n",
    "\n",
    "def loglikelihood(x, y, theta):\n",
    "    for j in set(y):\n",
    "        idy = np.where(y == j)\n",
    "        x_train_class = x[idy]\n",
    "        prob,pred = cal_Prob_Pred(x_train_class,theta)\n",
    "        J += np.sum(np.log(prob))\n",
    "    return J\n",
    "\n",
    "def gradient_des(x,y,theta,alpha,n_iter,tol):\n",
    "    cost_func_hist = np.zeros((n_iter))\n",
    "    theta_hist = np.zeros((n_iter,5))\n",
    "    \n",
    "    for iter in range(n_iter):\n",
    "        H_theta = softmax(np.dot(x,theta))\n",
    "        gradient = np.dot(x.T,(H_theta-y))\n",
    "        update = (alpha/len(x))*gradient\n",
    "        \n",
    "        if np.all(np.abs(update) <= tol):\n",
    "            print('Reached tolerance value')\n",
    "            break\n",
    "            \n",
    "        theta = theta - update\n",
    "        cost_func_hist[iter] = np.sum(np.log(H_theta))\n",
    "        theta_hist[iter] = theta.reshape(1,5)\n",
    "        \n",
    "    return(theta,theta_hist,cost_func_hist)\n",
    "\n",
    "theta_GD,theta_hist,cost_func_hist = gradient_des(X_train,y_train.reshape(-1,1),theta,alpha,n_iter,tol)"
   ]
  },
  {
   "cell_type": "code",
   "execution_count": 276,
   "id": "d8330757",
   "metadata": {},
   "outputs": [
    {
     "data": {
      "text/plain": [
       "Text(0, 0.5, 'Cost Function')"
      ]
     },
     "execution_count": 276,
     "metadata": {},
     "output_type": "execute_result"
    },
    {
     "data": {
      "image/png": "[encoded data removed]",
      "text/plain": [
       "<Figure size 432x288 with 1 Axes>"
      ]
     },
     "metadata": {
      "needs_background": "light"
     },
     "output_type": "display_data"
    }
   ],
   "source": [
    "plt.scatter(list(np.arange(n_iter)),cost_func_hist)\n",
    "plt.grid()\n",
    "plt.xlabel('n_iterations')\n",
    "plt.ylabel('Cost Function')"
   ]
  },
  {
   "cell_type": "code",
   "execution_count": null,
   "id": "2ddd4cf0",
   "metadata": {},
   "outputs": [],
   "source": []
  },
  {
   "cell_type": "code",
   "execution_count": null,
   "id": "74a3c2fa",
   "metadata": {},
   "outputs": [],
   "source": []
  },
  {
   "cell_type": "code",
   "execution_count": null,
   "id": "5de28295",
   "metadata": {},
   "outputs": [],
   "source": []
  },
  {
   "cell_type": "code",
   "execution_count": null,
   "id": "b08ea427",
   "metadata": {},
   "outputs": [],
   "source": []
  },
  {
   "cell_type": "code",
   "execution_count": null,
   "id": "e6bf26a9",
   "metadata": {},
   "outputs": [],
   "source": []
  }
 ],
 "metadata": {
  "kernelspec": {
   "display_name": "Python 3 (ipykernel)",
   "language": "python",
   "name": "python3"
  },
  "language_info": {
   "codemirror_mode": {
    "name": "ipython",
    "version": 3
   },
   "file_extension": ".py",
   "mimetype": "text/x-python",
   "name": "python",
   "nbconvert_exporter": "python",
   "pygments_lexer": "ipython3",
   "version": "3.8.10"
  }
 },
 "nbformat": 4,
 "nbformat_minor": 5
}
